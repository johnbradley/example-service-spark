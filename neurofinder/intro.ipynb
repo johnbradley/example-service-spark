{
 "cells": [
  {
   "cell_type": "markdown",
   "metadata": {},
   "source": [
    "<div class=\"clearfix\" style=\"padding: 0px; padding-left: 0px;\">\n",
    "<a href=\"http://codeneuro.org\"><img src=\"http://codeneuro.org/svg/logo-notebooks-green.svg\" width=\"150px\"  style=\"display: inline-block; margin-left: 0px; width:500px\"></a>\n",
    "<a href=\"http://neurofinder.codeneuro.org\"><img src=\"http://codeneuro.org/svg/logo-neurofinder.svg\" width=\"380px\"  style=\"display: inline-block;\"></a>\n",
    "</div>\n",
    "\n",
    "<p class='header-1'>Welcome to <span style='font-weight:800'>NEUROFINDER</span></p>\n",
    "\n",
    "<p class='info-text'>A common problem in the analysis of neuroscience imaging data is source extraction: identifying neurons from time-varying image sequences. There are many existing algorithms but they have yet to be compared. The goal of NEUROFINDER is to compare these algorithms in a common environment on standardized, vetted data sets, and begin to integrate algorithms into a common platform. The notebooks below show how to load the NEUROFINDER data, and how to run algorithms and evaluate their performance.</p>\n",
    "\n",
    "<p class='info-text'>For more information, visit the <a class='call-link neurofinder' href='http://neurofinder.codeneuro.org/'>project</a> page or come <a class='call-link neurofinder' href='http://gitter.im/codeneuro/neurofinder'>chat</a> with us.</p>\n",
    "\n",
    "<p class='header-2'>Tutorials</p>\n",
    "\n",
    "<a class='call-link neurofinder' href='tutorials/loading-data.ipynb'>Loading data</a>\n",
    "\n",
    "<a class='call-link neurofinder' href='tutorials/running-algorithms.ipynb'>Running algorithms</a>\n",
    "\n",
    "<a class='call-link neurofinder' href='tutorials/training-example-block.ipynb'>Evaluating an algorithm (block-based)</a>\n",
    "\n",
    "<a class='call-link neurofinder' href='tutorials/training-example-feature.ipynb'>Evaluating an algorithm (feature-based)</a>\n",
    "\n",
    "<a class='call-link neurofinder' href='tutorials/custom-example-thunder.ipynb'>Writing an algorithm (using Spark/Thunder)</a>\n",
    "\n",
    "<a class='call-link neurofinder' href='tutorials/custom-example-python.ipynb'>Writing an algorithm (using pure scientific Python)</a>\n",
    "\n",
    "<br>\n",
    "\n",
    "<hr>\n",
    "\n",
    "<p class='info-text' style='text-align: right'>Return to <a class='call-link' href='../welcome.ipynb'>welcome</a></p>\n",
    "\n"
   ]
  }
 ],
 "metadata": {
  "kernelspec": {
   "display_name": "Python 2",
   "language": "python",
   "name": "python2"
  },
  "language_info": {
   "codemirror_mode": {
    "name": "ipython",
    "version": 2
   },
   "file_extension": ".py",
   "mimetype": "text/x-python",
   "name": "python",
   "nbconvert_exporter": "python",
   "pygments_lexer": "ipython2",
   "version": "2.7.10"
  }
 },
 "nbformat": 4,
 "nbformat_minor": 0
}
