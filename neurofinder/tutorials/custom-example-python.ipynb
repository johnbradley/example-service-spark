{
 "cells": [
  {
   "cell_type": "markdown",
   "metadata": {},
   "source": [
    "# Writing an algorithm (using pure scientific Python)"
   ]
  },
  {
   "cell_type": "markdown",
   "metadata": {},
   "source": [
    "In this notebook, we show how to write an algorithm for the NeuroFinder challenge using pure scientific Python. Elsewhere in the challenge we've used Thunder to define a standard format and API for inputs and outputs. Many of the algorithm examples have additionally used Spark and Thunder to manipulate the data and run analyses, but **this is not neccecssary**.\n",
    "\n",
    "Here, we'll write a function that uses Thunder only for IO, and runs an algorithm purely using scientific Python libraries, like `numpy` and `skimage`."
   ]
  },
  {
   "cell_type": "markdown",
   "metadata": {},
   "source": [
    "## Load the data"
   ]
  },
  {
   "cell_type": "markdown",
   "metadata": {},
   "source": [
    "This is the only step where we need Thunder (and the `ThunderContext` variable `tsc`), because we're using its API to load the images from Amazon S3"
   ]
  },
  {
   "cell_type": "code",
   "execution_count": 1,
   "metadata": {
    "collapsed": true
   },
   "outputs": [],
   "source": [
    "bucket = \"s3n://neuro.datasets/\"\n",
    "path = \"challenges/neurofinder/01.00/\"\n",
    "images = tsc.loadImages(bucket + path + 'images', startIdx=0, stopIdx=100)"
   ]
  },
  {
   "cell_type": "markdown",
   "metadata": {},
   "source": [
    "## Write an algorithm"
   ]
  },
  {
   "cell_type": "markdown",
   "metadata": {},
   "source": [
    "We need to write a function that takes an `images` variable as an input, as well as an `info` dictionary with data-set specific metadata, and returns identified sources as an output. The function will look like this:"
   ]
  },
  {
   "cell_type": "code",
   "execution_count": 3,
   "metadata": {
    "collapsed": true
   },
   "outputs": [],
   "source": [
    "def run(data, info=None):\n",
    "    \n",
    "    # do an analysis on the images\n",
    "    \n",
    "    # optionally make use of the metadata\n",
    "    \n",
    "    # return a set of sources\n",
    "    \n",
    "    pass"
   ]
  },
  {
   "cell_type": "markdown",
   "metadata": {},
   "source": [
    "The `images` input is a class from Thunder, but we can convert it directly to a `numpy` array using the function `collectValuesAsArray`. \n",
    "\n",
    "NOTE: this will take a few seconds because we're loading the data here."
   ]
  },
  {
   "cell_type": "code",
   "execution_count": 16,
   "metadata": {
    "collapsed": true
   },
   "outputs": [],
   "source": [
    "a = images.collectValuesAsArray()"
   ]
  },
  {
   "cell_type": "code",
   "execution_count": 17,
   "metadata": {
    "collapsed": false
   },
   "outputs": [
    {
     "data": {
      "text/plain": [
       "(100, 512, 512)"
      ]
     },
     "execution_count": 17,
     "metadata": {},
     "output_type": "execute_result"
    }
   ],
   "source": [
    "a.shape"
   ]
  },
  {
   "cell_type": "markdown",
   "metadata": {},
   "source": [
    "Now we have a numpy array! So long as we perform this same first step in our `run` function, we can write the rest of our algorithm using our favorite Python libraries: `numpy`, `scipy`, `sklearn`, `skimage`, etc. We do need to use Thunder's `SourceModel` at the end to wrap the output in the appropriate format at the end. Here's a very simple algorithm that just finds local maxima in the temporal standard deviation."
   ]
  },
  {
   "cell_type": "code",
   "execution_count": 42,
   "metadata": {
    "collapsed": true
   },
   "outputs": [],
   "source": [
    "def run(data, info=None):\n",
    "    \n",
    "    # convert to array\n",
    "    a = images.collectValuesAsArray()\n",
    "\n",
    "    # compute the standard deviation over time\n",
    "    s = a.std(axis=0)\n",
    "    \n",
    "    # extract local peaks\n",
    "    from skimage.feature import peak_local_max\n",
    "    peaks = peak_local_max(s, min_distance=10, num_peaks=100).tolist()\n",
    "    \n",
    "    # draw a circle around each peak\n",
    "    from skimage.draw import circle\n",
    "    from numpy import array\n",
    "    def makecircle(center):\n",
    "        rr, cc = circle(center[0], center[1], 5, a.shape[1:])\n",
    "        return array(zip(rr, cc))\n",
    "    circles = [makecircle(p) for p in peaks]\n",
    "    \n",
    "    # put list of coordinates into SourceModel\n",
    "    from thunder import SourceModel\n",
    "    return SourceModel([c for c in circles])"
   ]
  },
  {
   "cell_type": "markdown",
   "metadata": {},
   "source": [
    "Run our function on the images"
   ]
  },
  {
   "cell_type": "code",
   "execution_count": 43,
   "metadata": {
    "collapsed": false
   },
   "outputs": [],
   "source": [
    "s = run(images)"
   ]
  },
  {
   "cell_type": "code",
   "execution_count": 44,
   "metadata": {
    "collapsed": false
   },
   "outputs": [
    {
     "data": {
      "text/plain": [
       "SourceModel\n",
       "100 sources"
      ]
     },
     "execution_count": 44,
     "metadata": {},
     "output_type": "execute_result"
    }
   ],
   "source": [
    "s"
   ]
  },
  {
   "cell_type": "markdown",
   "metadata": {},
   "source": [
    "And use basic `matplotlib` to look at the result"
   ]
  },
  {
   "cell_type": "code",
   "execution_count": 45,
   "metadata": {
    "collapsed": false
   },
   "outputs": [
    {
     "data": {
      "image/png": "[encoded data removed]",
      "text/plain": [
       "<matplotlib.figure.Figure at 0x7f1dd653ef50>"
      ]
     },
     "metadata": {},
     "output_type": "display_data"
    }
   ],
   "source": [
    "%matplotlib inline\n",
    "import matplotlib.pyplot as plt\n",
    "plt.figure(figsize=(15,8))\n",
    "plt.imshow(s.masks((512,512)), cmap='Greys_r', interpolation='none')\n",
    "plt.axis('off');"
   ]
  },
  {
   "cell_type": "markdown",
   "metadata": {},
   "source": [
    "It's as easy as that! To speed up your testing workflow, we recommend loading the images into an array once (as we did above), write your function providing that array as the input, and just remember to add the `collectValuesAsArray` back in before submitting."
   ]
  },
  {
   "cell_type": "markdown",
   "metadata": {},
   "source": [
    "You could now follow the instructions [here](http://neurofinder.codeneuro.org/leaderboard/#submit) to submit this `run` function as your algorithm. Of course, we'd also want to check that it does a good job, but this should be enough to get you started."
   ]
  }
 ],
 "metadata": {
  "kernelspec": {
   "display_name": "Python 2",
   "language": "python",
   "name": "python2"
  },
  "language_info": {
   "codemirror_mode": {
    "name": "ipython",
    "version": 2
   },
   "file_extension": ".py",
   "mimetype": "text/x-python",
   "name": "python",
   "nbconvert_exporter": "python",
   "pygments_lexer": "ipython2",
   "version": "2.7.10"
  }
 },
 "nbformat": 4,
 "nbformat_minor": 0
}
