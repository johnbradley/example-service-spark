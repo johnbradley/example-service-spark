{
 "cells": [
  {
   "cell_type": "markdown",
   "metadata": {},
   "source": [
    "<div class=\"clearfix\" style=\"padding: 0px; padding-left: 0px;\">\n",
    "<a href=\"http://thunder-project.org\"><img src=\"http://thunder-project.org/images/title-orange.svg\" width=\"350px\"  style=\"display: inline-block; margin-left: 0px;\"></a>\n",
    "</div>\n",
    "\n",
    "<p class='header-1'>Welcome to <span style='font-weight:800'>Thunder</span></p>\n",
    "\n",
    "<p class='info-text'>Thunder is a library for analyzing spatial and temporal data. It leverages distributed computation through the Spark platform for rapid, exploratory analysis of large data sets. These notebooks are tutorials for using Thunder. All the tutorials use small, toy data sets, but see the <a class='call-link thunder' href='../neurofinder/intro.ipynb'>neurofinder</a> and <a class='call-link thunder' href='../datasets/intro.ipynb'>datasets</a> notebooks for real use cases.</p>\n",
    "\n",
    "<p class='info-text'>For more information on Thunder, visit the <a class='call-link thunder' href='http://thunder-project.org'>project</a> page or come <a class='call-link thunder' href='http://gitter.im/thunder-project/thunder'>chat</a> with us.</p>\n",
    "\n",
    "<p class='header-2'>Tutorials (basic)</p>\n",
    "\n",
    "<a class='call-link thunder' href='tutorials/basic_usage.ipynb'>Basic usage</a>\n",
    "\n",
    "<a class='call-link thunder' href='tutorials/images.ipynb'>Images</a>\n",
    "\n",
    "<a class='call-link thunder' href='tutorials/series.ipynb'>Series</a>\n",
    "\n",
    "<a class='call-link thunder' href='tutorials/input_formats.ipynb'>Input formats</a>\n",
    "\n",
    "<a class='call-link thunder' href='tutorials/thunder_context.ipynb'>Thunder context</a>\n",
    "\n",
    "<p class='header-2'>Tutorials (intermediate)</p>\n",
    "\n",
    "<a class='call-link thunder' href='tutorials/factorization.ipynb'>Factorization</a>\n",
    "\n",
    "<a class='call-link thunder' href='tutorials/clustering.ipynb'>Clustering</a>\n",
    "\n",
    "<a class='call-link thunder' href='tutorials/regression.ipynb'>Regression</a>\n",
    "\n",
    "<a class='call-link thunder' href='tutorials/multi_index.ipynb'>Multi indexing</a>\n",
    "\n",
    "<a class='call-link thunder' href='tutorials/image_registration.ipynb'>Image registration</a>\n",
    "\n",
    "<br>\n",
    "\n",
    "<hr>\n",
    "\n",
    "<p class='info-text' style='text-align: right'>Return to <a class='call-link' href='../welcome.ipynb'>welcome</a></p>"
   ]
  }
 ],
 "metadata": {
  "kernelspec": {
   "display_name": "Python 2",
   "language": "python",
   "name": "python2"
  },
  "language_info": {
   "codemirror_mode": {
    "name": "ipython",
    "version": 2
   },
   "file_extension": ".py",
   "mimetype": "text/x-python",
   "name": "python",
   "nbconvert_exporter": "python",
   "pygments_lexer": "ipython2",
   "version": "2.7.9"
  }
 },
 "nbformat": 4,
 "nbformat_minor": 0
}
