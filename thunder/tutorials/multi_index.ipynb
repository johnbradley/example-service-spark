{
 "cells": [
  {
   "cell_type": "markdown",
   "metadata": {},
   "source": [
    "# Multi-indexing"
   ]
  },
  {
   "cell_type": "markdown",
   "metadata": {},
   "source": [
    "When dealing with `Series` data, it is often useful to index each element of the series with multiple labels and then select and aggregrate data based on these indices. For example, for a collection of time series data, each point in time might be identified by trial number, block number, one or more experimental conditions, etc. This tutorial shows how to create and leverage such \"multi-indices\" when working with Series objects."
   ]
  },
  {
   "cell_type": "markdown",
   "metadata": {},
   "source": [
    "Creating a toy data set\n",
    "-----------------------"
   ]
  },
  {
   "cell_type": "markdown",
   "metadata": {},
   "source": [
    "Let's start by building a simple Series with only a single record."
   ]
  },
  {
   "cell_type": "code",
   "execution_count": 1,
   "metadata": {
    "collapsed": false
   },
   "outputs": [],
   "source": [
    "from thunder import Series\n",
    "from numpy import arange, array"
   ]
  },
  {
   "cell_type": "code",
   "execution_count": 2,
   "metadata": {
    "collapsed": false
   },
   "outputs": [
    {
     "data": {
      "text/plain": [
       "((0,), array([ 0,  1,  2,  3,  4,  5,  6,  7,  8,  9, 10, 11]))"
      ]
     },
     "execution_count": 2,
     "metadata": {},
     "output_type": "execute_result"
    }
   ],
   "source": [
    "data = tsc.loadSeriesFromArray(arange(12))\n",
    "data.first()"
   ]
  },
  {
   "cell_type": "markdown",
   "metadata": {},
   "source": [
    "By default, the index on the series will label the elemets with ascending integers."
   ]
  },
  {
   "cell_type": "code",
   "execution_count": 3,
   "metadata": {
    "collapsed": false
   },
   "outputs": [
    {
     "data": {
      "text/plain": [
       "array([ 0,  1,  2,  3,  4,  5,  6,  7,  8,  9, 10, 11])"
      ]
     },
     "execution_count": 3,
     "metadata": {},
     "output_type": "execute_result"
    }
   ],
   "source": [
    "data.index"
   ]
  },
  {
   "cell_type": "markdown",
   "metadata": {},
   "source": [
    "For the sake of example, let's assume that these data represent two independent trials. Thus we might have one index describing the trial structure."
   ]
  },
  {
   "cell_type": "code",
   "execution_count": 4,
   "metadata": {
    "collapsed": false
   },
   "outputs": [],
   "source": [
    "trial = array([1, 1, 1, 1, 1, 1, 2, 2, 2, 2, 2, 2])"
   ]
  },
  {
   "cell_type": "markdown",
   "metadata": {},
   "source": [
    "Furthermore, let's assume that each trial is broken into three blocks. This can be described with a second index."
   ]
  },
  {
   "cell_type": "code",
   "execution_count": 5,
   "metadata": {
    "collapsed": false
   },
   "outputs": [],
   "source": [
    "block = array([1, 1, 2, 2, 3, 3, 1, 1, 2, 2, 3, 3])"
   ]
  },
  {
   "cell_type": "markdown",
   "metadata": {},
   "source": [
    "Finally, in this simple example, we have two time points within each block."
   ]
  },
  {
   "cell_type": "code",
   "execution_count": 6,
   "metadata": {
    "collapsed": false
   },
   "outputs": [],
   "source": [
    "point = array([1, 2, 1, 2, 1, 2, 1, 2, 1, 2, 1, 2])"
   ]
  },
  {
   "cell_type": "markdown",
   "metadata": {},
   "source": [
    "A multi-index for this data can then be created as list of lists, where each sub-list contains one value from each of the individual indices. "
   ]
  },
  {
   "cell_type": "code",
   "execution_count": 7,
   "metadata": {
    "collapsed": false
   },
   "outputs": [],
   "source": [
    "index = array([trial, block, point]).T\n",
    "data.index = index"
   ]
  },
  {
   "cell_type": "markdown",
   "metadata": {},
   "source": [
    "To inspect the index, we look at the transpose so it lines up with the Series."
   ]
  },
  {
   "cell_type": "code",
   "execution_count": 8,
   "metadata": {
    "collapsed": false
   },
   "outputs": [
    {
     "data": {
      "text/plain": [
       "array([[1, 1, 1, 1, 1, 1, 2, 2, 2, 2, 2, 2],\n",
       "       [1, 1, 2, 2, 3, 3, 1, 1, 2, 2, 3, 3],\n",
       "       [1, 2, 1, 2, 1, 2, 1, 2, 1, 2, 1, 2]])"
      ]
     },
     "execution_count": 8,
     "metadata": {},
     "output_type": "execute_result"
    }
   ],
   "source": [
    "data.index.T"
   ]
  },
  {
   "cell_type": "markdown",
   "metadata": {},
   "source": [
    "As a useful piece of terminology, we would say that the resulting multi-index has three levels: level 0 (trial); level 1 (block); and level 3 (time point)."
   ]
  },
  {
   "cell_type": "markdown",
   "metadata": {},
   "source": [
    "Selecting\n",
    "---------"
   ]
  },
  {
   "cell_type": "markdown",
   "metadata": {},
   "source": [
    "There are two major pieces of multi-index functionality. The first is selection. To select a subset of the Series based on the multi-index, we choose a value and a level and then only elements where that level of the index matches the value will be retained. For instance, we could select only the data data points from the first trial (level = 0; value = 1)."
   ]
  },
  {
   "cell_type": "code",
   "execution_count": 9,
   "metadata": {
    "collapsed": false
   },
   "outputs": [
    {
     "name": "stdout",
     "output_type": "stream",
     "text": [
      "index\n",
      "-----\n",
      "[[1 1 1 1 1 1]\n",
      " [1 1 2 2 3 3]\n",
      " [1 2 1 2 1 2]]\n",
      "series\n",
      "------\n",
      "[0 1 2 3 4 5]\n"
     ]
    }
   ],
   "source": [
    "selected = data.selectByIndex(1, level=0)\n",
    "\n",
    "def displaySeries(series):\n",
    "    print \"index\"\n",
    "    print \"-----\"\n",
    "    print series.index.T\n",
    "    print \"series\"\n",
    "    print \"------\"\n",
    "    print series.values().first()\n",
    "    \n",
    "displaySeries(selected)"
   ]
  },
  {
   "cell_type": "markdown",
   "metadata": {},
   "source": [
    "As we see above, once a single value has been selected from a certain level, the index values at that level become redundant and we might desire to discard them. This can be accomplished with the \"squeeze\" option."
   ]
  },
  {
   "cell_type": "code",
   "execution_count": 10,
   "metadata": {
    "collapsed": false
   },
   "outputs": [
    {
     "name": "stdout",
     "output_type": "stream",
     "text": [
      "index\n",
      "-----\n",
      "[[1 1 2 2 3 3]\n",
      " [1 2 1 2 1 2]]\n",
      "series\n",
      "------\n",
      "[0 1 2 3 4 5]\n"
     ]
    }
   ],
   "source": [
    "selected = data.selectByIndex(1, level=0, squeeze=True)\n",
    "displaySeries(selected)"
   ]
  },
  {
   "cell_type": "markdown",
   "metadata": {},
   "source": [
    "We can also select multiple values at a given level by passing a list of values. He we select data from blocks 2 and 3 (level = 1; value = 2 or 3)."
   ]
  },
  {
   "cell_type": "code",
   "execution_count": 11,
   "metadata": {
    "collapsed": false
   },
   "outputs": [
    {
     "name": "stdout",
     "output_type": "stream",
     "text": [
      "index\n",
      "-----\n",
      "[[1 1 1 1 2 2 2 2]\n",
      " [2 2 3 3 2 2 3 3]\n",
      " [1 2 1 2 1 2 1 2]]\n",
      "series\n",
      "------\n",
      "[ 2  3  4  5  8  9 10 11]\n"
     ]
    }
   ],
   "source": [
    "selected = data.selectByIndex([2, 3], level=1)\n",
    "displaySeries(selected)"
   ]
  },
  {
   "cell_type": "markdown",
   "metadata": {},
   "source": [
    "In the most general case, we can select multiple values at multiple levels. Let's combine the previous two examples and get the 2nd and 3rd blocks (level = 1; value = 2 or 3), but only for the 1st trial (level = 0; value = 1)."
   ]
  },
  {
   "cell_type": "code",
   "execution_count": 12,
   "metadata": {
    "collapsed": false
   },
   "outputs": [
    {
     "name": "stdout",
     "output_type": "stream",
     "text": [
      "index\n",
      "-----\n",
      "[[1 1 1 1]\n",
      " [2 2 3 3]\n",
      " [1 2 1 2]]\n",
      "series\n",
      "------\n",
      "[2 3 4 5]\n"
     ]
    }
   ],
   "source": [
    "selected = data.selectByIndex([1, [2, 3]], level=[0, 1])\n",
    "displaySeries(selected)"
   ]
  },
  {
   "cell_type": "markdown",
   "metadata": {},
   "source": [
    "Finally, we can reverse the process of \"selection\" (keeping only the elements that match the values) to that of \"filtering\" (keeping all elements *except* those that match the values). This is accomplished with the \"filter\" keyword. To demonstrate, lets get all of the blocks *except* for the 2nd (level = 1; value = 2)."
   ]
  },
  {
   "cell_type": "code",
   "execution_count": 13,
   "metadata": {
    "collapsed": false
   },
   "outputs": [
    {
     "name": "stdout",
     "output_type": "stream",
     "text": [
      "index\n",
      "-----\n",
      "[[1 1 1 1 2 2 2 2]\n",
      " [1 1 3 3 1 1 3 3]\n",
      " [1 2 1 2 1 2 1 2]]\n",
      "series\n",
      "------\n",
      "[ 0  1  4  5  6  7 10 11]\n"
     ]
    }
   ],
   "source": [
    "selected = data.selectByIndex(2, level=1, filter=True)\n",
    "displaySeries(selected)"
   ]
  },
  {
   "cell_type": "markdown",
   "metadata": {},
   "source": [
    "Aggregation\n",
    "-----------"
   ]
  },
  {
   "cell_type": "markdown",
   "metadata": {},
   "source": [
    "The second major multi-index operation is aggregation. Aggregation can be thought of as a two step-process. First a level is selected and the series is partitioned into pieces that share the index value at that level. Second an aggregating function is applied to each of these partitions, and a new series is reconsituted with one element for the aggregate value computed on each piece. The aggregating function should take an array as input and return a single numeric values as output.\n",
    "\n",
    "As a simple initial demonstration, let's find the average value of our series for each trial (level = 0)."
   ]
  },
  {
   "cell_type": "code",
   "execution_count": 14,
   "metadata": {
    "collapsed": false
   },
   "outputs": [
    {
     "name": "stdout",
     "output_type": "stream",
     "text": [
      "index\n",
      "-----\n",
      "[1 2]\n",
      "series\n",
      "------\n",
      "[ 2.5  8.5]\n"
     ]
    }
   ],
   "source": [
    "from numpy import mean\n",
    "aggregated = data.seriesAggregateByIndex(mean, level=0)\n",
    "displaySeries(aggregated)"
   ]
  },
  {
   "cell_type": "markdown",
   "metadata": {},
   "source": [
    "The same operation can be called through the convienience function `seriesMeanByIndex`"
   ]
  },
  {
   "cell_type": "code",
   "execution_count": 15,
   "metadata": {
    "collapsed": false
   },
   "outputs": [
    {
     "name": "stdout",
     "output_type": "stream",
     "text": [
      "index\n",
      "-----\n",
      "[1 2]\n",
      "series\n",
      "------\n",
      "[ 2.5  8.5]\n"
     ]
    }
   ],
   "source": [
    "aggregated = data.seriesMeanByIndex(level=0)\n",
    "displaySeries(aggregated)"
   ]
  },
  {
   "cell_type": "markdown",
   "metadata": {},
   "source": [
    "As a more complex example, we might want aggregation with respect to the values on multiple levels. For example, we might want to examine how the maximum value at each time point (level = 2) is different across the different trials (level = 0)."
   ]
  },
  {
   "cell_type": "code",
   "execution_count": 16,
   "metadata": {
    "collapsed": false
   },
   "outputs": [
    {
     "name": "stdout",
     "output_type": "stream",
     "text": [
      "index\n",
      "-----\n",
      "[[1 1 2 2]\n",
      " [1 2 1 2]]\n",
      "series\n",
      "------\n",
      "[ 4  5 10 11]\n"
     ]
    }
   ],
   "source": [
    "aggregated = data.seriesMaxByIndex(level=[0, 2])\n",
    "displaySeries(aggregated)"
   ]
  }
 ],
 "metadata": {
  "kernelspec": {
   "display_name": "Python 2",
   "language": "python",
   "name": "python2"
  },
  "language_info": {
   "codemirror_mode": {
    "name": "ipython",
    "version": 2
   },
   "file_extension": ".py",
   "mimetype": "text/x-python",
   "name": "python",
   "nbconvert_exporter": "python",
   "pygments_lexer": "ipython2",
   "version": "2.7.9"
  }
 },
 "nbformat": 4,
 "nbformat_minor": 0
}
