{
 "cells": [
  {
   "cell_type": "markdown",
   "metadata": {},
   "source": [
    "<div class=\"clearfix\" style=\"padding: 0px; padding-left: 0px;\">\n",
    "<a href=\"http://codeneuro.org\"><img src=\"http://codeneuro.org/svg/logo-notebooks.svg\" width=\"150px\"  style=\"display: inline-block; margin-left: 0px; width:500px\"></a>\n",
    "</div>\n",
    "\n",
    "<p class='header-1'>Welcome to <span style='font-weight:800'>CodeNeuro</span> notebooks</p>\n",
    "\n",
    "<p class='info-text'>This is a temporary notebook server for coding and neuroscience.</p>\n",
    "\n",
    "<p class='info-text'>It's an entry point for testing new computing technologies, browsing public data sets, and protoyping custom analyses.</p>\n",
    "\n",
    "<p class='header-2'>Browse the notebooks by topic</p>\n",
    "\n",
    "<br>\n",
    "<a class='button button-link' href='datasets/intro.ipynb'>datasets</a>\n",
    "<a class='button button-link' href='neurofinder/intro.ipynb'>neurofinder</a>\n",
    "<a class='button button-link' href='thunder/intro.ipynb'>thunder</a>\n",
    "<a class='button button-link' href='bolt/intro.ipynb'>bolt</a><br>\n",
    "<br>\n",
    "\n",
    "<p class='header-2'>How it works</p>\n",
    "\n",
    "<p class='info-text'>We've created a private environment for you preloaded with a collection of Jupyter notebooks. It's  intended only for playing around, and will dissapear after an hour of inactivity, *so don't use this for real work*! The notebooks are deployed using docker containers and the <a class='call-link' href='http://github.com/jupyter/tmbnb'>tmpnb</a> service. Availiability is limited (view the number of remaining notebooks on the <a class='call-link' href='http://notebooks.codeneuro.org'>homepage</a>).</p>\n",
    "\n",
    "<p class='header-2'>Scaling up</p>\n",
    "\n",
    "<p class='info-text'>Your notebooks are running on one compute node. Some of the technologies shown here (including <a class='call-link' href='http://thunder-project.org'>Thunder</a>, which is built on the distributed computing platform <a class='call-link' href='http://spark.apache.org'>Spark</a>) are much faster when run on a cluster. If you are interested in using your own cluster, <a class='call-link' href='http://thunder-project.org/thunder/docs/install_ec2.html'>read more</a> about deploying on Amazon Web Services, or consider a managed service like <a class='call-link' href='http://databricks.com'>Databricks Cloud</a>.</p>\n",
    "\n",
    "<p class='header-2'>Questions</p>\n",
    "\n",
    "<p class='info-text'>Please let us know if you run into trouble or have questions! Find us on twitter (<a class='call-link' href='http://twitter.com/thefreemanlab'>@thefreemanlab</a>, <a class='call-link' href='http://twitter.com/ndrewosh'>@ndrewosh</a>, <a class='call-link' href='http://twitter.com/codeneuro'>@codeneuro</a>) or come join us in the <a class='call-link' href='https://gitter.im/CodeNeuro/notebooks'>chatroom</a>. Post any issues to the project page on <a class='call-link' href='http://github.com/codeneuro/notebooks'>GitHub</a>.</p>\n",
    "\n",
    "\n",
    "<p class='header-2'>Thanks</p>\n",
    "\n",
    "<p class='info-text'>This environment was assembled by Andrew Osheroff and Jeremy Freeman, and builds on amazing work by the <a class='call-link' href='#'>Jupyter</a> team and developers of <a class='call-link' href='#'>tmpnb</a>.</p>\n"
   ]
  }
 ],
 "metadata": {
  "kernelspec": {
   "display_name": "Python 2",
   "language": "python",
   "name": "python2"
  },
  "language_info": {
   "codemirror_mode": {
    "name": "ipython",
    "version": 2
   },
   "file_extension": ".py",
   "mimetype": "text/x-python",
   "name": "python",
   "nbconvert_exporter": "python",
   "pygments_lexer": "ipython2",
   "version": "2.7.9"
  }
 },
 "nbformat": 4,
 "nbformat_minor": 0
}
