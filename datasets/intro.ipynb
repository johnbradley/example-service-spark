{
 "cells": [
  {
   "cell_type": "markdown",
   "metadata": {},
   "source": [
    "<div class=\"clearfix\" style=\"padding: 0px; padding-left: 0px;\">\n",
    "<a href=\"http://codeneuro.org\"><img src=\"http://codeneuro.org/svg/logo-notebooks-red.svg\" width=\"150px\"  style=\"display: inline-block; margin-left: 0px; width:500px\"></a>\n",
    "<a href=\"http://datasets.codeneuro.org\"><img src=\"http://codeneuro.org/svg/logo-datasets.svg\" width=\"310px\"  style=\"display: inline-block;\"></a>\n",
    "</div>\n",
    "\n",
    "<p class='header-1'>Welcome to <span style='font-weight:800'>DataSets</span></p>\n",
    "\n",
    "<p class='info-text'>The CodeNeuro data repository makes a variety of neuroscience data sets avaialble in a standardized format, stored on Amazon S3, and immediately accessible from the cloud. The notebooks below, organized by model system, show examples of loading these data sets and performing simple operations. If you want to do any serious analysis of these data, we recommend either downloading these tools locally or starting your own cluster.</p>\n",
    "\n",
    "<p class='info-text'>For more information, visit the <a class='call-link datasets' href='http://datasets.codeneuro.org'>project</a> page or come <a class='call-link datasets' href='http://gitter.im/codeneuro/datasets'>chat</a> with us.</p>\n",
    "\n",
    "<p class='header-2'>Mouse</p>\n",
    "\n",
    "<a class='call-link datasets' href='svoboda.lab/tactile.navigation/1/explore.ipynb'>svoboda lab / tactile navigation / 1 </a>\n",
    "\n",
    "<p class='header-2'>Zebrafish</p>\n",
    "\n",
    "<p class='info-text'>Coming soon...</p>\n",
    "\n",
    "<br>\n",
    "\n",
    "<hr>\n",
    "\n",
    "<p class='info-text' style='text-align: right'>Return to <a class='call-link' href='../welcome.ipynb'>welcome</a></p>\n"
   ]
  }
 ],
 "metadata": {
  "kernelspec": {
   "display_name": "Python 2",
   "language": "python",
   "name": "python2"
  },
  "language_info": {
   "codemirror_mode": {
    "name": "ipython",
    "version": 2
   },
   "file_extension": ".py",
   "mimetype": "text/x-python",
   "name": "python",
   "nbconvert_exporter": "python",
   "pygments_lexer": "ipython2",
   "version": "2.7.9"
  }
 },
 "nbformat": 4,
 "nbformat_minor": 0
}
